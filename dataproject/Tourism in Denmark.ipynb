{
 "cells": [
  {
   "cell_type": "markdown",
   "metadata": {},
   "source": [
    "# Data analysis project\n",
    "Let's have a look at the level of tourism in Denmark. Statistics Denmark have records of the number of visiting tourists from 2014:1 - 2019:1, so we can see how the tourism in Denmark has evovled over the years. The exact definition of af tourist in this data is a person staying overnight at one of the following places:\n",
    "- Hotels\n",
    "- Holiday resorts\n",
    "- Camping sites\tYouth hostels\n",
    "- Marinas\n",
    "- Holiday cottages\n",
    "\n",
    "In order to analys the data, it is first nessesary to importing and prepare the data."
   ]
  },
  {
   "cell_type": "markdown",
   "metadata": {},
   "source": [
    "# Preparing the data"
   ]
  },
  {
   "cell_type": "markdown",
   "metadata": {},
   "source": [
    "## Import packages and load the data\n",
    "We start by importing the relevant packages for our analysis"
   ]
  },
  {
   "cell_type": "code",
   "execution_count": 7,
   "metadata": {},
   "outputs": [],
   "source": [
    "# Imporing packages\n",
    "import pandas\n",
    "import datetime\n",
    "import matplotlib.pyplot as plt\n",
    "import pydst\n",
    "import calendar\n",
    "from statsmodels.tsa.seasonal import seasonal_decompose\n",
    "import geopandas as gpd\n",
    "import ipywidgets as widgets"
   ]
  },
  {
   "cell_type": "markdown",
   "metadata": {},
   "source": [
    "We then use the API for data extractions from Statistics Denmark. The data will be imported in English from the table called 'TURIST'."
   ]
  },
  {
   "cell_type": "code",
   "execution_count": 8,
   "metadata": {},
   "outputs": [],
   "source": [
    "Dst = pydst.Dst(lang='en')\n",
    "Dst.get_data(table_id = 'TURIST');"
   ]
  },
  {
   "cell_type": "markdown",
   "metadata": {},
   "source": [
    "For the preparation of the data extraction, the following code provides an overlook of the variables to choose from. The relevant categories within each variable is then chosen for the final list of variables \"var_list\" to be included in the analysis. The final data extract will be stored in a data frame called 'df'."
   ]
  },
  {
   "cell_type": "code",
   "execution_count": 9,
   "metadata": {},
   "outputs": [],
   "source": [
    "# Display the different categories for each variable in the dataset\n",
    "indk_vars = Dst.get_variables(table_id='TURIST')\n",
    "indk_vars['values'][2][:50];"
   ]
  },
  {
   "cell_type": "code",
   "execution_count": 10,
   "metadata": {},
   "outputs": [
    {
     "data": {
      "text/html": [
       "<div>\n",
       "<style scoped>\n",
       "    .dataframe tbody tr th:only-of-type {\n",
       "        vertical-align: middle;\n",
       "    }\n",
       "\n",
       "    .dataframe tbody tr th {\n",
       "        vertical-align: top;\n",
       "    }\n",
       "\n",
       "    .dataframe thead th {\n",
       "        text-align: right;\n",
       "    }\n",
       "</style>\n",
       "<table border=\"1\" class=\"dataframe\">\n",
       "  <thead>\n",
       "    <tr style=\"text-align: right;\">\n",
       "      <th></th>\n",
       "      <th>OVERNATF</th>\n",
       "      <th>OMRÅDE</th>\n",
       "      <th>NATION1</th>\n",
       "      <th>PERIODE</th>\n",
       "      <th>TID</th>\n",
       "      <th>INDHOLD</th>\n",
       "    </tr>\n",
       "  </thead>\n",
       "  <tbody>\n",
       "    <tr>\n",
       "      <th>69918</th>\n",
       "      <td>All types</td>\n",
       "      <td>Region Sjælland</td>\n",
       "      <td>Germany</td>\n",
       "      <td>July</td>\n",
       "      <td>2009</td>\n",
       "      <td>52449</td>\n",
       "    </tr>\n",
       "    <tr>\n",
       "      <th>22892</th>\n",
       "      <td>All types</td>\n",
       "      <td>Region Sjælland</td>\n",
       "      <td>Netherlands</td>\n",
       "      <td>September</td>\n",
       "      <td>1997</td>\n",
       "      <td>..</td>\n",
       "    </tr>\n",
       "    <tr>\n",
       "      <th>19081</th>\n",
       "      <td>All types</td>\n",
       "      <td>Region Sjælland</td>\n",
       "      <td>South korea</td>\n",
       "      <td>February</td>\n",
       "      <td>1996</td>\n",
       "      <td>..</td>\n",
       "    </tr>\n",
       "  </tbody>\n",
       "</table>\n",
       "</div>"
      ],
      "text/plain": [
       "        OVERNATF           OMRÅDE      NATION1    PERIODE   TID INDHOLD\n",
       "69918  All types  Region Sjælland      Germany       July  2009   52449\n",
       "22892  All types  Region Sjælland  Netherlands  September  1997      ..\n",
       "19081  All types  Region Sjælland  South korea   February  1996      .."
      ]
     },
     "execution_count": 10,
     "metadata": {},
     "output_type": "execute_result"
    }
   ],
   "source": [
    "# Specific categories for each variable is chosen as a dictionary\n",
    "var_list      = {'OVERNATF':['100'],\\\n",
    "                 'OMRÅDE':['000','084','085','083','082','081'],\\\n",
    "                 'NATION1':['*'],\\\n",
    "                 'PERIODE':['01','02','03','04','05','06','07','08','09','10','11','12'],\\\n",
    "                 'TID':['*']}\n",
    "\n",
    "# The raw data frame with the specified variables is imported and a sample is given below\n",
    "df            = Dst.get_data(table_id = 'TURIST', variables=var_list);\n",
    "df.sample(3)"
   ]
  },
  {
   "cell_type": "markdown",
   "metadata": {},
   "source": [
    "## Setup the final data frame\n",
    "The extracted data frame 'df' now contains the basic data, but some corrections have to be made. The variables in the data frame can be described as below:\n",
    "\n",
    "- **OVERNATF:** The types of ways to live in Denmark as a tourist. Since we do not care how they stay in the country, we only use the 'All types' category.\n",
    "- **OMRÅDE:**   The different administrative areas, where the tourists are staying throughout their visit.\n",
    "- **NATION1:**  The nationality of the tourists.\n",
    "- **PERIODE:**  The period where the observations has been recorded. We only care about the months, so the rest of the categories has been dropped.\n",
    "- **TID:**      The time of the observations. This means, which year the observations were recorded. Statistic Denmark only have observations for the time 2014-2019, but since only the first month of 2019 is accounted for, 2019 will be dropped from the final data set.\n",
    "- **INDHOLD:**  The total number of observed tourists from a specific nation, at a given area, at a specific year and month.\n",
    "\n",
    "Some observations are empty, so the number of tourists is given as '..'. This is a problem when we have to do calculations. The empty observations are then replaced with zeroes and the variable is formatted into a number (integer).\n",
    "\n",
    "A timeseries would also be nice to have for a visual look at the evolution in the number of tourists. For this we have to make a date variable. The datetime function is useful here, but we have to translate the name of each month into a number to use the function. The corrections for the final data set is done below. "
   ]
  },
  {
   "cell_type": "code",
   "execution_count": 11,
   "metadata": {},
   "outputs": [
    {
     "data": {
      "text/html": [
       "<div>\n",
       "<style scoped>\n",
       "    .dataframe tbody tr th:only-of-type {\n",
       "        vertical-align: middle;\n",
       "    }\n",
       "\n",
       "    .dataframe tbody tr th {\n",
       "        vertical-align: top;\n",
       "    }\n",
       "\n",
       "    .dataframe thead th {\n",
       "        text-align: right;\n",
       "    }\n",
       "</style>\n",
       "<table border=\"1\" class=\"dataframe\">\n",
       "  <thead>\n",
       "    <tr style=\"text-align: right;\">\n",
       "      <th></th>\n",
       "      <th>OMRÅDE</th>\n",
       "      <th>NATION1</th>\n",
       "      <th>year</th>\n",
       "      <th>Month</th>\n",
       "      <th>PERIODE</th>\n",
       "      <th>day</th>\n",
       "      <th>INDHOLD</th>\n",
       "    </tr>\n",
       "    <tr>\n",
       "      <th>Date</th>\n",
       "      <th></th>\n",
       "      <th></th>\n",
       "      <th></th>\n",
       "      <th></th>\n",
       "      <th></th>\n",
       "      <th></th>\n",
       "      <th></th>\n",
       "    </tr>\n",
       "  </thead>\n",
       "  <tbody>\n",
       "    <tr>\n",
       "      <th>2016-08-01</th>\n",
       "      <td>Region Nordjylland</td>\n",
       "      <td>Romania</td>\n",
       "      <td>2016</td>\n",
       "      <td>8</td>\n",
       "      <td>August</td>\n",
       "      <td>1</td>\n",
       "      <td>164</td>\n",
       "    </tr>\n",
       "    <tr>\n",
       "      <th>2018-02-01</th>\n",
       "      <td>Region Sjælland</td>\n",
       "      <td>Bulgaria</td>\n",
       "      <td>2018</td>\n",
       "      <td>2</td>\n",
       "      <td>February</td>\n",
       "      <td>1</td>\n",
       "      <td>15</td>\n",
       "    </tr>\n",
       "    <tr>\n",
       "      <th>2015-12-01</th>\n",
       "      <td>All Denmark</td>\n",
       "      <td>Greenland</td>\n",
       "      <td>2015</td>\n",
       "      <td>12</td>\n",
       "      <td>December</td>\n",
       "      <td>1</td>\n",
       "      <td>1990</td>\n",
       "    </tr>\n",
       "  </tbody>\n",
       "</table>\n",
       "</div>"
      ],
      "text/plain": [
       "                        OMRÅDE    NATION1  year  Month   PERIODE  day  INDHOLD\n",
       "Date                                                                          \n",
       "2016-08-01  Region Nordjylland    Romania  2016      8    August    1      164\n",
       "2018-02-01     Region Sjælland   Bulgaria  2018      2  February    1       15\n",
       "2015-12-01         All Denmark  Greenland  2015     12  December    1     1990"
      ]
     },
     "execution_count": 11,
     "metadata": {},
     "output_type": "execute_result"
    }
   ],
   "source": [
    "# Replace empty observations and format the variable\n",
    "df['INDHOLD'] = df['INDHOLD'].replace('..', '0').astype(str).astype(int)\n",
    "\n",
    "# Dictionary to transform the name of the month to a number\n",
    "dic           = {'January':'01', 'February':'02', 'March':'03', 'April':'04', 'May':'05', 'June':'06',\\\n",
    "                 'July':'07', 'August':'08', 'September':'09', 'October':'10', 'November':'11', 'December':'12'}\n",
    "\n",
    "# Making a variable for the date, using datetime\n",
    "df['Month']   = df['PERIODE'].replace(dic)\n",
    "df['Month']   = df['Month'].astype(str).astype(int)\n",
    "df['day']     = 1\n",
    "df['year']    = df['TID']\n",
    "df['Date']    = pd.to_datetime(df[['year', 'Month', 'day']])\n",
    "\n",
    "# We ony want to use years with observations\n",
    "df            = df[(df['Date'].dt.year > 2013)]\n",
    "df            = df[(df['Date'].dt.year < 2019)]\n",
    "\n",
    "# Restructuring the data frame\n",
    "df            = df.set_index('Date')\n",
    "df            = df[['OMRÅDE','NATION1','year','Month','PERIODE','day','INDHOLD']]\n",
    "df.sample(3)"
   ]
  },
  {
   "cell_type": "markdown",
   "metadata": {},
   "source": [
    "## Splitting the data frame\n",
    "The restructured data frame 'df' contains both observations for 'All Denmark' and for each of the 5 regions. For the timeseries we only want the observations for 'All Denmark' and only for foreign tourist, which means we have to remove the observations for Danish tourists. An easy way to do this is by only including the value 'World outside Denmark' for nationality. The following code creates the data frame with total number of tourists for each month and year based on their nationality."
   ]
  },
  {
   "cell_type": "code",
   "execution_count": 12,
   "metadata": {},
   "outputs": [],
   "source": [
    "# Total number of observations each month of the year for foreign tourists\n",
    "AD = df[df['OMRÅDE'] == 'All Denmark']\n",
    "AD = AD[AD.NATION1.isin(['World outside Denmark'])]"
   ]
  },
  {
   "cell_type": "markdown",
   "metadata": {},
   "source": [
    "# Overview of the level of tourism in Denmark"
   ]
  },
  {
   "cell_type": "markdown",
   "metadata": {},
   "source": [
    "## Total number of tourists from 2014-2018\n",
    "Just to get a quick overlook of the number of tourist in Denmark over the years, a timeseries is drawn. This is done from the calculated data frame AD, which sums the number of tourists grouped by each date. A rolling mean is calculated to get a better feel for the trend in the time series."
   ]
  },
  {
   "cell_type": "code",
   "execution_count": 15,
   "metadata": {},
   "outputs": [
    {
     "data": {
      "image/png": "[encoded data removed]",
      "text/plain": [
       "<Figure size 720x360 with 1 Axes>"
      ]
     },
     "metadata": {
      "needs_background": "light"
     },
     "output_type": "display_data"
    }
   ],
   "source": [
    "# Sum total number of tourists for each date\n",
    "AD_sum = AD.groupby(['Date'])['INDHOLD'].sum()\n",
    "\n",
    "# Calculating the rolling mean\n",
    "rolmean = AD_sum.rolling(12).mean()\n",
    "\n",
    "# Plot timeseries and mean\n",
    "plt.figure(figsize=(10, 5))\n",
    "plt.plot(AD_sum, color='blue',label='Original')\n",
    "plt.plot(rolmean, color='red', label='Rolling Mean')\n",
    "plt.legend(loc='best')\n",
    "plt.ylabel('Number of visiting tourists')\n",
    "plt.title('Tourists spending the night in Denmark, 2014-2018')\n",
    "plt.show()"
   ]
  },
  {
   "cell_type": "markdown",
   "metadata": {},
   "source": [
    "It is clear and also expected, that the number of tourists is extremely seasonal. The number of tourists are lowerst (0.5-1 mio.) at the end and the beginning of each year (winter season), while being around 5-5.5 mio. in the peak seasons (summer). Over the five years, the overall level also seems to have increased. It is possible to see from the rolling mean, but it could also be from a higher seasonal effect. To ease the task of analysis the overall level, it would be easier to decompose the timeseries. By imposing a multiplicative model, we get a time series for the trend in levels and the seasonal effect and the residual in percentage. "
   ]
  },
  {
   "cell_type": "code",
   "execution_count": 18,
   "metadata": {},
   "outputs": [
    {
     "data": {
      "image/png": "[encoded data removed]",
      "text/plain": [
       "<Figure size 432x288 with 4 Axes>"
      ]
     },
     "metadata": {
      "needs_background": "light"
     },
     "output_type": "display_data"
    }
   ],
   "source": [
    "# The decomposition of the time series\n",
    "decomp = seasonal_decompose(AD_sum, model='multiplicativ')\n",
    "decomp.plot()\n",
    "plt.show()"
   ]
  },
  {
   "cell_type": "markdown",
   "metadata": {},
   "source": [
    "The results tell that a clear linear trend is present in the time series. Denmark has either become a more popular travel destination or people are traveling more in general. The seasonal effect is clear in the decomposition and from the residual, it appears that most deviations from the expected happens in the first months of the year. That means most uncertainty happens around the winter season. \n",
    "\n",
    "In order to get a better feel of the seasonal effects, the aggregated mean level of each month over the five-year period is calculated below. This gives a nice view of how popular each month is to visit Denmark in. The code below groups the data frame by each month and takes a mean over the five years."
   ]
  },
  {
   "cell_type": "code",
   "execution_count": 19,
   "metadata": {},
   "outputs": [
    {
     "data": {
      "image/png": "[encoded data removed]",
      "text/plain": [
       "<Figure size 432x288 with 1 Axes>"
      ]
     },
     "metadata": {
      "needs_background": "light"
     },
     "output_type": "display_data"
    }
   ],
   "source": [
    "# Aggregated mean level of each month of the five-year period\n",
    "ax = AD.groupby('Month')['INDHOLD'].mean().plot.bar()\n",
    "\n",
    "# Labels and title of the bar chart is constructed\n",
    "ax.set_ylabel('Number of visiting tourists');\n",
    "ax.set_xlabel('');\n",
    "ax.set_xticklabels(calendar.month_name[1:13])\n",
    "ax.set_title('Agg. mean level of tourists each month');"
   ]
  },
  {
   "cell_type": "markdown",
   "metadata": {},
   "source": [
    "July and August are the clear winners as the months with the highest number of tourists. It is due to people visiting Denmark during their summer holidays. The number of tourists visiting Denmark each of the two months is almost the same amount as the total population in Denmark. The number of foreign tourists each month is almost never under 1 mio., which is quiet high for a small country as Denmark. This means Denmark is a well visited country, relative to its size."
   ]
  },
  {
   "cell_type": "markdown",
   "metadata": {},
   "source": [
    "# Characteristics for the tourists\n",
    "Now that we know Denmark is well visited, it could be interesting to see which nationalities are visiting Denmark most frequently. By calculating an average number of tourists each year, based on nationality, it is possible to make a top 10 of most visiting nationality over the last five years on average."
   ]
  },
  {
   "cell_type": "code",
   "execution_count": 22,
   "metadata": {},
   "outputs": [
    {
     "name": "stdout",
     "output_type": "stream",
     "text": [
      "Top 10 over most visiting nationality on average\n"
     ]
    },
    {
     "data": {
      "text/html": [
       "<div>\n",
       "<style scoped>\n",
       "    .dataframe tbody tr th:only-of-type {\n",
       "        vertical-align: middle;\n",
       "    }\n",
       "\n",
       "    .dataframe tbody tr th {\n",
       "        vertical-align: top;\n",
       "    }\n",
       "\n",
       "    .dataframe thead th {\n",
       "        text-align: right;\n",
       "    }\n",
       "</style>\n",
       "<table border=\"1\" class=\"dataframe\">\n",
       "  <thead>\n",
       "    <tr style=\"text-align: right;\">\n",
       "      <th></th>\n",
       "      <th>INDHOLD</th>\n",
       "    </tr>\n",
       "    <tr>\n",
       "      <th>NATION1</th>\n",
       "      <th></th>\n",
       "    </tr>\n",
       "  </thead>\n",
       "  <tbody>\n",
       "    <tr>\n",
       "      <th>Germany</th>\n",
       "      <td>14482293.8</td>\n",
       "    </tr>\n",
       "    <tr>\n",
       "      <th>Norway</th>\n",
       "      <td>2483358.8</td>\n",
       "    </tr>\n",
       "    <tr>\n",
       "      <th>Sweden</th>\n",
       "      <td>1839920.8</td>\n",
       "    </tr>\n",
       "    <tr>\n",
       "      <th>Netherlands</th>\n",
       "      <td>1192100.6</td>\n",
       "    </tr>\n",
       "    <tr>\n",
       "      <th>United Kingdom</th>\n",
       "      <td>840709.6</td>\n",
       "    </tr>\n",
       "    <tr>\n",
       "      <th>USA</th>\n",
       "      <td>637028.4</td>\n",
       "    </tr>\n",
       "    <tr>\n",
       "      <th>Unknown country</th>\n",
       "      <td>553392.4</td>\n",
       "    </tr>\n",
       "    <tr>\n",
       "      <th>Rest of Europa</th>\n",
       "      <td>334457.8</td>\n",
       "    </tr>\n",
       "    <tr>\n",
       "      <th>Italy</th>\n",
       "      <td>324722.0</td>\n",
       "    </tr>\n",
       "    <tr>\n",
       "      <th>France</th>\n",
       "      <td>249942.4</td>\n",
       "    </tr>\n",
       "  </tbody>\n",
       "</table>\n",
       "</div>"
      ],
      "text/plain": [
       "                    INDHOLD\n",
       "NATION1                    \n",
       "Germany          14482293.8\n",
       "Norway            2483358.8\n",
       "Sweden            1839920.8\n",
       "Netherlands       1192100.6\n",
       "United Kingdom     840709.6\n",
       "USA                637028.4\n",
       "Unknown country    553392.4\n",
       "Rest of Europa     334457.8\n",
       "Italy              324722.0\n",
       "France             249942.4"
      ]
     },
     "execution_count": 22,
     "metadata": {},
     "output_type": "execute_result"
    }
   ],
   "source": [
    "# Only choose obs for Denmark as a whole\n",
    "reg  = df[df['OMRÅDE'] == 'All Denmark']\n",
    "\n",
    "# Only choose obs based on specific nationalies and not agg. categories\n",
    "reg  = reg[~reg.NATION1.isin(['Total','Denmark','World outside Denmark'])]\n",
    "\n",
    "# The sum of each year for each nationality used for the avg. over the five years\n",
    "reg2 = reg.groupby(['NATION1','year'])['INDHOLD'].sum().to_frame()\n",
    "reg3 = reg2.groupby(['NATION1'])['INDHOLD'].mean().to_frame()\n",
    "print('Top 10 over most visiting nationality on average')\n",
    "reg3.sort_values(by = ['INDHOLD'], ascending=[False]).head(10)"
   ]
  },
  {
   "cell_type": "markdown",
   "metadata": {},
   "source": [
    "This top 10 clearly shows how dominant the German tourists are in Denmark, but since we only have a table with the numbers above, it can be difficult to compare the level of tourists across the nationalities. Lets try and make a nice looking bar chart, to ease the comparison."
   ]
  },
  {
   "cell_type": "code",
   "execution_count": 30,
   "metadata": {},
   "outputs": [
    {
     "data": {
      "image/png": "[encoded data removed]",
      "text/plain": [
       "<Figure size 432x288 with 1 Axes>"
      ]
     },
     "metadata": {
      "needs_background": "light"
     },
     "output_type": "display_data"
    }
   ],
   "source": [
    "# List and new dataframe of our top 10  \n",
    "lande   = ['Germany','Norway','Sweden','Netherlands','United Kingdom','USA','Italy','France','Switzerland','Spain']\n",
    "reg_top = reg[reg.NATION1.isin(lande)]\n",
    "\n",
    "# The new dataframe is used to calculated the mean of tourists over the five years\n",
    "ax      = reg_top.sort_values(by = ['INDHOLD'], ascending=[False]).groupby(['NATION1','year'])['INDHOLD'].sum().to_frame()\n",
    "axm     = ax.groupby(['NATION1'])['INDHOLD'].mean().to_frame()\n",
    "\n",
    "# A bar chart of the top 10 most visiting nationalities for better comparison\n",
    "axm['INDHOLD'].sort_values(ascending=[True]).plot.barh();\n",
    "plt.gca().set_ylabel('')\n",
    "plt.gca().set_xlabel('Avg. visiting tourists each year')\n",
    "plt.show()"
   ]
  },
  {
   "cell_type": "markdown",
   "metadata": {},
   "source": [
    "The average level of visiting Germans each year is 14,5 mio. compared to Norway on second place with only 2,5 mio. This tells us that most of the visiting tourists are from Germany. The second and third place is Norway and Sweden, so Denmark is most visited by its neighbors.\n",
    "\n",
    "The number of tourists from Germany is so high, that it can be hard to compare the other nations in the chart. To solve this problem, Germany is removed below in a new chart. The conclusion is, that the countries closest to Denmark are the most frequent visiting nations. USA is more present in the tourism compared to nationas from Southern Europe, but it is also a relative more populated nation. Italy, France, Switzerland and Spain are all on the same level of tourism in Denmark."
   ]
  },
  {
   "cell_type": "code",
   "execution_count": 31,
   "metadata": {},
   "outputs": [
    {
     "data": {
      "image/png": "[encoded data removed]",
      "text/plain": [
       "<Figure size 432x288 with 1 Axes>"
      ]
     },
     "metadata": {
      "needs_background": "light"
     },
     "output_type": "display_data"
    }
   ],
   "source": [
    "# Drop observation from Germany\n",
    "axm2 = axm.drop(axm.index[1])\n",
    "\n",
    "# Sort again and plot the bar chart\n",
    "axm2['INDHOLD'].sort_values(ascending=[True]).plot.barh();\n",
    "plt.gca().set_ylabel('')\n",
    "plt.gca().set_xlabel('Avg. visiting tourists each year')\n",
    "plt.show()"
   ]
  },
  {
   "cell_type": "markdown",
   "metadata": {},
   "source": [
    "Statistics Denmark has also provided data for how many of the tourists are staying in each of the five regions in Denmark. Since the data is available, let’s have a look at where the tourists are staying while visiting Denmark."
   ]
  },
  {
   "cell_type": "markdown",
   "metadata": {},
   "source": [
    "# Where tourists stay while in Denmark\n",
    "It is possible to draw a map of Denmark from a shapefile (.shp). By providing the observations with the relevant geometric values, geopandas can draw a map showing with colors, which of the five regions is most popular in Denmark to visit by tourists.\n",
    "\n",
    "First we start by preparing the polygon from the shapefile, used to draw the map."
   ]
  },
  {
   "cell_type": "code",
   "execution_count": 25,
   "metadata": {},
   "outputs": [
    {
     "data": {
      "text/html": [
       "<div>\n",
       "<style scoped>\n",
       "    .dataframe tbody tr th:only-of-type {\n",
       "        vertical-align: middle;\n",
       "    }\n",
       "\n",
       "    .dataframe tbody tr th {\n",
       "        vertical-align: top;\n",
       "    }\n",
       "\n",
       "    .dataframe thead th {\n",
       "        text-align: right;\n",
       "    }\n",
       "</style>\n",
       "<table border=\"1\" class=\"dataframe\">\n",
       "  <thead>\n",
       "    <tr style=\"text-align: right;\">\n",
       "      <th></th>\n",
       "      <th>OMRÅDE</th>\n",
       "      <th>geometry</th>\n",
       "    </tr>\n",
       "  </thead>\n",
       "  <tbody>\n",
       "    <tr>\n",
       "      <th>0</th>\n",
       "      <td>Region Hovedstaden</td>\n",
       "      <td>(POLYGON ((14.77472305297852 55.29875183105469...</td>\n",
       "    </tr>\n",
       "    <tr>\n",
       "      <th>1</th>\n",
       "      <td>Region Midtjylland</td>\n",
       "      <td>(POLYGON ((10.31305503845226 55.79124832153332...</td>\n",
       "    </tr>\n",
       "    <tr>\n",
       "      <th>2</th>\n",
       "      <td>Region Nordjylland</td>\n",
       "      <td>(POLYGON ((8.542498588562069 56.70430374145502...</td>\n",
       "    </tr>\n",
       "    <tr>\n",
       "      <th>3</th>\n",
       "      <td>Region Sjælland</td>\n",
       "      <td>(POLYGON ((11.51249980926525 54.62541580200201...</td>\n",
       "    </tr>\n",
       "    <tr>\n",
       "      <th>4</th>\n",
       "      <td>Region Syddanmark</td>\n",
       "      <td>(POLYGON ((10.58416652679443 54.85031509399425...</td>\n",
       "    </tr>\n",
       "  </tbody>\n",
       "</table>\n",
       "</div>"
      ],
      "text/plain": [
       "               OMRÅDE                                           geometry\n",
       "0  Region Hovedstaden  (POLYGON ((14.77472305297852 55.29875183105469...\n",
       "1  Region Midtjylland  (POLYGON ((10.31305503845226 55.79124832153332...\n",
       "2  Region Nordjylland  (POLYGON ((8.542498588562069 56.70430374145502...\n",
       "3     Region Sjælland  (POLYGON ((11.51249980926525 54.62541580200201...\n",
       "4   Region Syddanmark  (POLYGON ((10.58416652679443 54.85031509399425..."
      ]
     },
     "execution_count": 25,
     "metadata": {},
     "output_type": "execute_result"
    }
   ],
   "source": [
    "# Importing the shapefile\n",
    "map_df = gpd.read_file(\"Geofiles/DNK_adm1.shp\")\n",
    "\n",
    "# Dictionary is constructed in order to rename the regions for the merge\n",
    "regs           = {'Hovedstaden':'Region Hovedstaden','Midtjylland':'Region Midtjylland','Nordjylland':'Region Nordjylland',\\\n",
    "                 'SjÃ¦lland':'Region Sjælland','Syddanmark':'Region Syddanmark'}\n",
    "\n",
    "# In order to merge, the variables has to be named the same\n",
    "map_df['OMRÅDE'] = map_df['NAME_1'].replace(regs)\n",
    "map_df1 = map_df[['OMRÅDE','geometry']]\n",
    "# This is the dataframe, ready to be merged on the observations\n",
    "map_df1"
   ]
  },
  {
   "cell_type": "markdown",
   "metadata": {},
   "source": [
    "Now that the coordinates for regions on the map is ready, it can be merged on the original dataframe 'df'. In order to compare the evolution over time, a slider with the years is introduced for the reader to play around with."
   ]
  },
  {
   "cell_type": "code",
   "execution_count": 34,
   "metadata": {},
   "outputs": [],
   "source": [
    "def interactive_figure(y):\n",
    "    \n",
    "    # The original dataframe with obs for the regions\n",
    "    lo = df[df['OMRÅDE'] != 'All Denmark']\n",
    "    lo = lo[~lo.NATION1.isin(['Total','Denmark','World outside Denmark'])]\n",
    "    lo = lo[lo.year.isin([y])]\n",
    "    \n",
    "    # The observations are aggregated by each region in Denmark\n",
    "    tmp = lo.groupby(['OMRÅDE'])['INDHOLD'].sum().to_frame()\n",
    "    # The observations are merge with the shapefile data on the regions\n",
    "    maps = pd.merge(map_df1, tmp, on='OMRÅDE')\n",
    "\n",
    "    # create the figure and the axes for the plot\n",
    "    fig, ax = plt.subplots(1, figsize=(16, 4))\n",
    "    maps.plot(column='INDHOLD', cmap='viridis_r', ax=ax)\n",
    "    ax.axis('off');\n",
    "\n",
    "    # set max/min for the legend\n",
    "    vmin = maps['INDHOLD'].min()\n",
    "    vmax = maps['INDHOLD'].max()\n",
    "\n",
    "    # create legend\n",
    "    sm = plt.cm.ScalarMappable(cmap='viridis_r', norm=plt.Normalize(vmin=vmin, vmax=vmax))\n",
    "    sm._A = []\n",
    "    cbar = fig.colorbar(sm)"
   ]
  },
  {
   "cell_type": "code",
   "execution_count": 27,
   "metadata": {},
   "outputs": [
    {
     "data": {
      "application/vnd.jupyter.widget-view+json": {
       "model_id": "44af1f50c4f54ce1924907e263a57576",
       "version_major": 2,
       "version_minor": 0
      },
      "text/plain": [
       "interactive(children=(SelectionSlider(description='$Year$', index=4, options=('2014', '2015', '2016', '2017', …"
      ]
     },
     "metadata": {},
     "output_type": "display_data"
    }
   ],
   "source": [
    "# The implimentation of a widget makes it possible to change which nationality we want to take a closer look at\n",
    "widgets.interact(interactive_figure,\n",
    "    y=widgets.SelectionSlider(description=\"$Year$\", options=['2014','2015','2016','2017','2018'], value='2018'),);"
   ]
  },
  {
   "cell_type": "markdown",
   "metadata": {},
   "source": [
    "The maps above show the total amount of tourists for each region. The year can be adjusted by the slider. The maps show that the relative level of tourists is constant over the five years, where the only difference is the total amount of tourists increasing over the years.\n",
    "\n",
    "The conclusion is that most tourists visit 'Region Hovedstaden', where Copenhagen must be the main reason. Bornholm is also an attractive holiday location in the summer, which is also a part of 'Region Hovedstaden', but compared to Copenhagen, Bornholm do not have that many locations for accommodation. The second most visited region is 'Region Syddanmark'. This is could be a result of many tourists crossing the border between Germany and Denmark on their way further into Denmark/Europe. A closer look at the distribution of nationalities in each region could explain some of these results.\n",
    "\n",
    "The following pie chart is an interactive way of examine where the tourists of each nationality is staying while in Denmark. Since the maps show their is no realtive difference over time, the pie charts will be the sum over all five years."
   ]
  },
  {
   "cell_type": "code",
   "execution_count": 37,
   "metadata": {},
   "outputs": [],
   "source": [
    "# We start with a function genrating the pie chart.\n",
    "def interactive_figure(fokus):\n",
    "    # Choose nationality for the pie chart\n",
    "    lo = df[df['OMRÅDE'] != 'All Denmark']\n",
    "    lo1 = lo[lo.NATION1.isin([fokus])]\n",
    "    \n",
    "    # Sum the observations grouped by the regions and plot the chart\n",
    "    pie_sources = lo1.groupby(['OMRÅDE'])['INDHOLD'].sum().plot(kind='pie',autopct='%1.1f%%')\n",
    "    plt.gca().set_ylabel('')\n",
    "    plt.title('Share of tourists from the chosen country by region in Denmark')\n",
    "    plt.show()"
   ]
  },
  {
   "cell_type": "code",
   "execution_count": 40,
   "metadata": {},
   "outputs": [
    {
     "data": {
      "application/vnd.jupyter.widget-view+json": {
       "model_id": "8e6fa44df5ea40c5bc1dd00b8a6ad549",
       "version_major": 2,
       "version_minor": 0
      },
      "text/plain": [
       "interactive(children=(Dropdown(description='$Nationality$', options=('Germany', 'Norway', 'Sweden', 'Netherlan…"
      ]
     },
     "metadata": {},
     "output_type": "display_data"
    }
   ],
   "source": [
    "# The implimentation of a widget makes it possible to change which nationality we want to take a closer look at\n",
    "widgets.interact(interactive_figure,\n",
    "    fokus=widgets.Dropdown(description=\"$Nationality$\", options=lande, value='Germany'),);"
   ]
  },
  {
   "cell_type": "markdown",
   "metadata": {},
   "source": [
    "The results show that tourists from Southern Europe (France, Spain, Italy) and countries where people have to fly to Denmark (USA, United Kingdom) has the highest percentages in Region Hovedstaden. It might be that most tourists come to Denmark in order to visit Copenhagen and if you fly to Kastrup, you do not have to stay overnight at some other place in Denmark than Region Hovedstaden. The European countries more to the north like Netherlands and Switzerland are more likely to visit Region Syddanmark. There might be some interesting things to see in Region Syddanmark, but since most of the tourists are traveling to Copenhagen, it could be that tourists from countries closer to Denmark are traveling by car. If you then have to stop and rest on your journey, it might be in Region Syddanmark on the way to Copenhagen.\n",
    "\n",
    "A relatively large percentage of tourists from Sweden and Norway also stay in Region Syddanmark. This might be a reversed situation as for the people traveling to Copenhagen by car. If Swedish or Norwegian tourists are traveling down south into Europe, then they might have to rest in Region Syddanmark on their way.\n",
    "\n",
    "Region Syddanmark do not have to be a resting place for people traveling across Denmark. Odense is a major city in Denmark, with attractions like H.C. Andersen, which could be a magnet for tourists. \n",
    "\n",
    "The final **conclusion** is that Denmark is a well visited country, mostly by its neighbors and during the summer, the number of people living in Denmark almost double in size."
   ]
  }
 ],
 "metadata": {
  "kernelspec": {
   "display_name": "Python 3",
   "language": "python",
   "name": "python3"
  },
  "language_info": {
   "codemirror_mode": {
    "name": "ipython",
    "version": 3
   },
   "file_extension": ".py",
   "mimetype": "text/x-python",
   "name": "python",
   "nbconvert_exporter": "python",
   "pygments_lexer": "ipython3",
   "version": "3.7.1"
  }
 },
 "nbformat": 4,
 "nbformat_minor": 2
}
