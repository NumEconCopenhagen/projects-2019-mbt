{
 "cells": [
  {
   "cell_type": "markdown",
   "metadata": {},
   "source": [
    "# The Koopman model - Robinson Crusoe economy"
   ]
  },
  {
   "cell_type": "markdown",
   "metadata": {},
   "source": [
    "**What is the Robinson Crusoe economy?**\n",
    "\n",
    "Imaging the classic everyday first world problem. You are on your way to a tropical paradise for the holidays, but on the way your plane crashes and leaves you stranded on a deserted island. As a human being, you have to eat in order to survive and the island only has two kinds of food supplies. You can either use your time on fishing or pick bananas. Each activity consumes time of the day, which you would rather spend on relaxation/leisure (since this technically is your holiday). As a rational utility optimizing individual with understanding of economic efficient decision making, you now have to decide how to allocate your time in order to achieve the maximum amount of utility (remeber it is you holiday, so you should get the most out of it)."
   ]
  },
  {
   "cell_type": "markdown",
   "metadata": {},
   "source": [
    "# The model for optimizing your holiday"
   ]
  },
  {
   "cell_type": "markdown",
   "metadata": {},
   "source": [
    "**The stats of you character**\n",
    "\n",
    "The first question is how efficient your are at producing each of the two goods. The goods are given as:\n",
    "1. Bananas (B)\n",
    "* Fish (F)\n",
    "\n",
    "The production of the two goods only require time as input, which leads to an alternative cost of lost leisure. Time will be abbreviated as L, while the inputs are abbreviated as $L_F$ and $L_B$. The production function for each good is given as follows:\n",
    "\n",
    "$$ B = \\sqrt{L_B} ,  F = \\frac{\\sqrt{L_F}}{2} $$\n",
    "\n",
    "The utility you gain from the total consumption of each good is expressed by the utility function\n",
    "\n",
    "$$ U(B,F) = \\sqrt{B}\\sqrt{F} $$\n",
    "\n",
    "The final part to consider is the amount of inputs you have available at you disposal. A day consist of 24 hours, so the total time $L$ most be equal to 24. These 24 hours has to be distributed between production of fish and bananas and some type of leisure $l$ (a person has to sleep some time at least). The total amount of available inputs can then be characterized as \n",
    "$$ L = L_B + L_F + l = 24 $$\n",
    "\n",
    "Now that the model is presented, we begin to solve for the pareto efficient allocation of time between the two goods. "
   ]
  },
  {
   "cell_type": "markdown",
   "metadata": {},
   "source": [
    "# The pareto efficient allocation"
   ]
  },
  {
   "cell_type": "markdown",
   "metadata": {},
   "source": [
    "First we need to determine **the Production Possibilities Frontier (PPF)**, which defines all the efficiently combinations to produce of fish and bananas. In other words, it is the frontier where it is not possible to produce more of both goods by reallocating time, $L$.\n",
    "\n",
    "We start by importing the relevant **packages**"
   ]
  },
  {
   "cell_type": "code",
   "execution_count": 363,
   "metadata": {},
   "outputs": [],
   "source": [
    "# Import relevant packages\n",
    "import sympy as sm\n",
    "from sympy.plotting import plot_implicit\n",
    "import math as m\n",
    "import matplotlib.pyplot as plt\n",
    "import numpy as np"
   ]
  },
  {
   "cell_type": "markdown",
   "metadata": {},
   "source": [
    "We then define all **symbols** for our analytical solution"
   ]
  },
  {
   "cell_type": "code",
   "execution_count": 364,
   "metadata": {},
   "outputs": [],
   "source": [
    "# Symbols for the Sympy optimization\n",
    "l    = sm.symbols('l')\n",
    "LF   = sm.symbols('LF')\n",
    "LB   = sm.symbols('LB')\n",
    "B    = sm.symbols('B')\n",
    "F    = sm.symbols('F')\n",
    "U    = sm.symbols('U')\n",
    "L    = sm.symbols('L')\n",
    "T    = sm.symbols('T')\n",
    "PPF  = sm.symbols('PPF')"
   ]
  },
  {
   "cell_type": "markdown",
   "metadata": {},
   "source": [
    "Now we use the symbols to set up our **model** in Sympy"
   ]
  },
  {
   "cell_type": "code",
   "execution_count": 365,
   "metadata": {},
   "outputs": [],
   "source": [
    "# leisure (time for sleep and fun)\n",
    "l = 8\n",
    "# Total amount of time available for production\n",
    "L = 24-l\n",
    "\n",
    "# Defining time spend on producing fish (it is arbitrary whether we isolate LF or LB) \n",
    "LF = L - LB\n",
    "\n",
    "# The production functions\n",
    "Bprod = sm.Eq(B,LB**0.5)\n",
    "Fprod = sm.Eq(F,LF**0.5/2)\n",
    "\n",
    "# Utility function\n",
    "U = B**0.5*F**0.5\n",
    "Utility = sm.Eq(U,B**0.5*F**0.5)"
   ]
  },
  {
   "cell_type": "markdown",
   "metadata": {},
   "source": [
    "The **PPF is then found** by isolating the time spend on picking bananas $L_B$ in both production functions, setting them equal and move all variables to the right hand side."
   ]
  },
  {
   "cell_type": "code",
   "execution_count": 366,
   "metadata": {},
   "outputs": [
    {
     "data": {
      "image/png": "[encoded data removed]",
      "text/plain": [
       "<Figure size 432x288 with 1 Axes>"
      ]
     },
     "metadata": {
      "needs_background": "light"
     },
     "output_type": "display_data"
    }
   ],
   "source": [
    "# Solution when isolation LB in Banana production function\n",
    "solB = sm.solve(Bprod,LB)\n",
    "# Solution when isolation LB in Fishing production function\n",
    "solF = sm.solve(Fprod,LB)\n",
    "\n",
    "# The Production Possibilities Frontier\n",
    "T = solB[0]-solF[0]\n",
    "PPF = sm.Eq(0,T)\n",
    "\n",
    "# Plot of the PPF from the symbolic definition (here L is set to 16)\n",
    "plot_implicit((T), x_var=(B, 0, 5), y_var=(F, 0, 3), xlabel='Number of banans', ylabel='Number of fishs');"
   ]
  },
  {
   "cell_type": "markdown",
   "metadata": {},
   "source": [
    "**The Pareto Efficient allocation** is the point on the PPF, where the utility is maximized. The problem is stated as follows\n",
    "\n",
    "\\\\[\n",
    "\\begin{eqnarray*}\n",
    "& \\max_{B,F}U(B,F)\\\\\n",
    "& \\text{s.t.}\\\\\n",
    "& PPF(B,F) = 0\n",
    "\\end{eqnarray*}\n",
    "\\\\]\n",
    "\n",
    "To solve the problem, **the Lagrangian is constructed and solved** w.r.t. B, F and $\\lambda$\n",
    "\n",
    "$$ \\max_{B,F,\\lambda}\\mathcal{L}(B,F,\\lambda) = \\sqrt{B}\\sqrt{F}+\\lambda(PPF(B,F)-0) $$\n",
    "\n",
    "**The first order conditions** (FOC) is calculated as follows"
   ]
  },
  {
   "cell_type": "code",
   "execution_count": 367,
   "metadata": {},
   "outputs": [
    {
     "name": "stdout",
     "output_type": "stream",
     "text": [
      "FOC for Bananas: 0.5*B**(-0.5)*F**0.5 + 2*B*lam = 0\n",
      "FOC for Fish:    0.5*B**0.5*F**(-0.5) + 8.0*F*lam = 0\n",
      "FOC for lambda:  B**2 + 4.0*F**2 - 16.0 = 0\n"
     ]
    }
   ],
   "source": [
    "# The symbol for lambda is defined as 'lam'\n",
    "lam  = sm.symbols('lam')\n",
    "# The Lagrangian is defined\n",
    "Lag = B**0.5*F**0.5+lam*(T-0)\n",
    "\n",
    "# The FOC for each variable is found\n",
    "# FOC for Bananas\n",
    "diffB = Lag.diff(B)\n",
    "# FOC for Fish\n",
    "diffF = Lag.diff(F)\n",
    "# FOC for lambda\n",
    "difflam = Lag.diff(lam)\n",
    "\n",
    "# The FOC's are then printed\n",
    "print('FOC for Bananas: {} = 0'.format(diffB))\n",
    "print('FOC for Fish:    {} = 0'.format(diffF))\n",
    "print('FOC for lambda:  {} = 0'.format(difflam))"
   ]
  },
  {
   "cell_type": "markdown",
   "metadata": {},
   "source": [
    "**The equation system with three unknowns**\n",
    "\n",
    "The way we find the pareto efficient allocation of the two goods, is to **solve the equation system** of the three FOC's equations with three unknown variables. The equation system is given as\n",
    "\n",
    "\\\\[\n",
    "\\begin{eqnarray*}\n",
    "\\frac{\\partial\\mathcal{L}(B,F,\\lambda)}{\\partial B}      & = & \\frac{1}{2}\\frac{\\sqrt{F}}{\\sqrt{B}} + 2B\\lambda & = & 0\\\\\n",
    "\\frac{\\partial\\mathcal{L}(B,F,\\lambda)}{\\partial F}      & = & \\frac{1}{2}\\frac{\\sqrt{B}}{\\sqrt{F}} + 8F\\lambda & = & 0\\\\\n",
    "\\frac{\\partial\\mathcal{L}(B,F,\\lambda)}{\\partial\\lambda} & = & B^2 + 4F^2 - L & = & 0\n",
    "\\end{eqnarray*}\n",
    "\\\\]\n",
    "\n",
    "**The solution is found in 4 steps:**\n",
    "1. First we use the first two equation to define lambda with B and F\n",
    "* Lambda is then inserted into the second equation to get an expression for B, defined by F\n",
    "* The expression for B is then inserted into the third equation to isolate for F\n",
    "* The expression for F is finally inserted into the expression for B\n",
    "\n",
    "The final expression for B and F is the pareto efficient allocation of the two goods, given the amount of time you will spend on total production.\n",
    "\n",
    "**Step 1** is to set eq. 1 and 2 equal and find lambda defined by B and F:"
   ]
  },
  {
   "cell_type": "code",
   "execution_count": 368,
   "metadata": {},
   "outputs": [
    {
     "name": "stdout",
     "output_type": "stream",
     "text": [
      "Lambda = 0.25*(B - F)/(sqrt(B)*sqrt(F)*(B - 4.0*F))\n"
     ]
    }
   ],
   "source": [
    "# Setting eq. 1 and 2 equal\n",
    "e1 = sm.Eq(diffB,diffF)\n",
    "\n",
    "# Solve the equation for lambda\n",
    "lams = sm.solve(e1, lam)\n",
    "\n",
    "# Save the first result from the list as a variable and print it\n",
    "lams = lams[0]\n",
    "print('Lambda = {}'.format(lams))"
   ]
  },
  {
   "cell_type": "markdown",
   "metadata": {},
   "source": [
    "**Step 2** is to insert lambda into equation 2 in our system and solve for B: "
   ]
  },
  {
   "cell_type": "code",
   "execution_count": 369,
   "metadata": {},
   "outputs": [
    {
     "name": "stdout",
     "output_type": "stream",
     "text": [
      "B = 2.0*F\n"
     ]
    }
   ],
   "source": [
    "# Lambda inserted into equation 2\n",
    "e2 = sm.Eq(0.5*B**(-0.5)*F**0.5 + 2*B*lams,0)\n",
    "\n",
    "# B is defined by F\n",
    "Bs = sm.solve(e2, B)\n",
    "\n",
    "# Save the result in a variable and print it\n",
    "Bs = Bs[1]\n",
    "print('B = {}'.format(Bs))"
   ]
  },
  {
   "cell_type": "markdown",
   "metadata": {},
   "source": [
    "**Step 3** is to define F by inserting the expression for B into equation 3 "
   ]
  },
  {
   "cell_type": "code",
   "execution_count": 370,
   "metadata": {},
   "outputs": [
    {
     "name": "stdout",
     "output_type": "stream",
     "text": [
      "F* = 0.353553390593274*sqrt(L2)\n"
     ]
    }
   ],
   "source": [
    "# we want an analytical solution, so we define a new variable for total production input, L2\n",
    "L2 = sm.symbols('L2')\n",
    "\n",
    "# B is inserted into equation 3\n",
    "e3 = sm.Eq(Bs**2 + 4*F**2 - L2,0)\n",
    "\n",
    "# We solve for F\n",
    "F_eff = sm.solve(e3, F)\n",
    "F_eff = F_eff[1]\n",
    "print('F* = {}'.format(F_eff))"
   ]
  },
  {
   "cell_type": "markdown",
   "metadata": {},
   "source": [
    "**Step 4** uses the efficient amount of F to find the efficient amount of B"
   ]
  },
  {
   "cell_type": "code",
   "execution_count": 371,
   "metadata": {},
   "outputs": [
    {
     "name": "stdout",
     "output_type": "stream",
     "text": [
      "B* = 0.707106781186548*sqrt(L2)\n"
     ]
    }
   ],
   "source": [
    "# Insert efficient amount of F \n",
    "B_eff = 2.0*F_eff\n",
    "\n",
    "# Print the result\n",
    "print('B* = {}'.format(B_eff))"
   ]
  },
  {
   "cell_type": "markdown",
   "metadata": {},
   "source": [
    "Finally we print both definitions to get a clear view of the results"
   ]
  },
  {
   "cell_type": "code",
   "execution_count": 372,
   "metadata": {},
   "outputs": [
    {
     "name": "stdout",
     "output_type": "stream",
     "text": [
      "B* = 0.707106781186548*sqrt(L2)\n",
      "F* = 0.353553390593274*sqrt(L2)\n"
     ]
    }
   ],
   "source": [
    "print('B* =', B_eff)\n",
    "print('F* =', F_eff)"
   ]
  },
  {
   "cell_type": "markdown",
   "metadata": {},
   "source": [
    "The pareto efficient allocation of the goods on the Production Function Frontier is defined as a function of the total input for production, known as the time, $L$.\n",
    "\n",
    "\\\\[\n",
    "\\begin{eqnarray*}\n",
    "Bananas & = & 0.707106781186548\\cdot\\sqrt{L} & \\approx 0.71\\cdot\\sqrt{L}\\\\\n",
    "Fish    & = & 0.353553390593274\\cdot\\sqrt{L} & \\approx 0.35\\cdot\\sqrt{L}\n",
    "\\end{eqnarray*}\n",
    "\\\\]\n"
   ]
  },
  {
   "cell_type": "code",
   "execution_count": 373,
   "metadata": {},
   "outputs": [
    {
     "name": "stdout",
     "output_type": "stream",
     "text": [
      "Pareto efficient amount of:\n",
      "Bananas = 2.82842712474619\n",
      "Fish    = 1.41421356237310\n"
     ]
    }
   ],
   "source": [
    "L2 = 16\n",
    "B2 = 0.707106781186548*sm.sqrt(L2)\n",
    "F2 = 0.353553390593274*sm.sqrt(L2)\n",
    "print('Pareto efficient amount of:')\n",
    "print('Bananas =', B2)\n",
    "print('Fish    =', F2)"
   ]
  },
  {
   "cell_type": "markdown",
   "metadata": {},
   "source": [
    "**Other combinations:** It would also be interesting to see how the allocation of the goods are when another amount of production input is used. Below is the allocations calculated for different amounts of hour input."
   ]
  },
  {
   "cell_type": "code",
   "execution_count": 374,
   "metadata": {},
   "outputs": [
    {
     "name": "stdout",
     "output_type": "stream",
     "text": [
      "for an hour input of 1.0 the production of bananas = 0.7 and fish = 0.4\n",
      "for an hour input of 3.5 the production of bananas = 1.3 and fish = 0.7\n",
      "for an hour input of 6.0 the production of bananas = 1.7 and fish = 0.9\n",
      "for an hour input of 8.5 the production of bananas = 2.1 and fish = 1.0\n",
      "for an hour input of 11.0 the production of bananas = 2.3 and fish = 1.2\n",
      "for an hour input of 13.5 the production of bananas = 2.6 and fish = 1.3\n",
      "for an hour input of 16.0 the production of bananas = 2.8 and fish = 1.4\n"
     ]
    }
   ],
   "source": [
    "Labor = np.linspace(1,16,7)\n",
    "for L2 in Labor:\n",
    "    B2 = 0.707106781186548*sm.sqrt(L2)\n",
    "    F2 = 0.353553390593274*sm.sqrt(L2)\n",
    "    print(f'for an hour input of {L2:} the production of bananas = {B2:.1f} and fish = {F2:.1f}' ) "
   ]
  },
  {
   "cell_type": "markdown",
   "metadata": {},
   "source": [
    "**Plot the final result:** The pareto efficent point on the PPF and the utility function is illustrated with their tangent line"
   ]
  },
  {
   "cell_type": "code",
   "execution_count": 375,
   "metadata": {},
   "outputs": [
    {
     "data": {
      "image/png": "[encoded data removed]",
      "text/plain": [
       "<Figure size 432x288 with 1 Axes>"
      ]
     },
     "metadata": {
      "needs_background": "light"
     },
     "output_type": "display_data"
    }
   ],
   "source": [
    "# Define symbols for the plot\n",
    "B = sm.symbols('B')\n",
    "F = sm.symbols('F')\n",
    "k = sm.symbols('k')\n",
    "\n",
    "# We start by finding the tangent to the pareto efficient point on PPF\n",
    "MRS = U.diff(B)/U.diff(F)    # Marginal Rate of Substitution (MRS) gives the slope of the tangent in the point\n",
    "MRS = sm.lambdify([B,F],MRS) # Lambdify MRS to ease the process of inserting the optimal point\n",
    "\n",
    "Tan = sm.Eq(F2,k-0.5*B2)                  # The tangent is defined by this equation for the efficient point\n",
    "k   = sm.solve(Tan,k)                     # Now we solve for the constant of the equation\n",
    "Tan = sm.lambdify(B,-MRS(B2,F2)*B + k[0]) # The final equation lambdifyed to ease the process of drawing the equation\n",
    "\n",
    "# The grid for the plot is constructed\n",
    "fig, ax = plt.subplots(1,1)\n",
    "xax,yax = np.linspace(0,6), np.linspace(0,4)\n",
    "B, F = np.meshgrid(xax,yax)\n",
    "ax.set_xlabel('Number of Bananas')\n",
    "ax.set_ylabel('Number of Fish')\n",
    "\n",
    "# Contour of the PPF\n",
    "ax.contour(B, F, B**2 + 4*F**2 - L2, [0], colors=('b',));\n",
    "\n",
    "# Contour of the utility function\n",
    "ax.contour(B, F, B**0.5*F**0.5, [2], colors=('k'));\n",
    "\n",
    "# Points array for the plot of the tangent\n",
    "y = np.array([Tan(0),Tan(1),Tan(2),Tan(3),Tan(4),Tan(5),Tan(5.5)])\n",
    "x = np.array([0,1,2,3,4,5,5.5])\n",
    "ax.plot(x,y)\n",
    "\n",
    "# We insert a point for the pareto efficient allocation of the goods\n",
    "ax.plot([B2],[F2],\"o\")\n",
    "ax.set_aspect('equal','datalim')"
   ]
  },
  {
   "cell_type": "markdown",
   "metadata": {},
   "source": [
    "**Conclusion:**\n",
    "The blue curve is the PPF, the black curve is the utility function and the tangent to the orange point is the tangent where $MRS=MRT$. The orange point is then the optimal allocation of fish and banans. So what did we learn here? If you think this model represent your productivity, you will optimize you utility on the island by using 16 hours on: \n",
    "* Fishing 1,5 fish\n",
    "* Pick almost 3 banans (banana trees are hard to scale)\n",
    "* Probably get a hell of a lot of mosquito bites\n",
    "\n",
    "The next part will look at how comparative advantages between agents is able to raise the level of utility."
   ]
  },
  {
   "cell_type": "markdown",
   "metadata": {},
   "source": [
    "# Comparative advantage\n"
   ]
  },
  {
   "cell_type": "markdown",
   "metadata": {},
   "source": [
    "An common extention to the Koopman model is to include an extra person with a different production function. Each person will be better at producing one of the two goods and by trading between each other, they can recieve a higher utility, given that they have a **comparative advantage**.\n",
    "\n",
    "Another way of looking at this type of extension is to see the increase in productivity from another person on the island, as an increase in the technology level in a simple Cobb-Douglas production function. \n",
    "\n",
    "$$ c = A\\cdot k^{1-\\alpha}\\cdot L^{\\alpha} $$\n",
    "\n",
    "The model is mixed up in this part, so instead of choosinn between two goods, the amount of the goods is collected in a varaible of total consumption. The agent in this model now gain utility from total consumption, $c$ and leisure $1-L$, where $L$ is the share of daily hours used for prodution.\n",
    "\n",
    "Before we get into the model, we start by looking at the new production function. We start by define a function for the level of produced consumption:"
   ]
  },
  {
   "cell_type": "code",
   "execution_count": 376,
   "metadata": {},
   "outputs": [],
   "source": [
    "# Function for the level of consumption produced\n",
    "def consum(k,L,alpha=0.50,A=1):\n",
    "    return A*k**(1-alpha)*L**alpha\n",
    "\n",
    "# Setting initial values\n",
    "N = 100 # number of elements\n",
    "x_max = 10 # maximum value\n",
    "\n",
    "# Allocate numpy arrays\n",
    "shape_tuple = (N,N)\n",
    "k_values = np.empty(shape_tuple)\n",
    "L_values = np.empty(shape_tuple)\n",
    "c_values = np.empty(shape_tuple)\n",
    "\n",
    "# Data points\n",
    "for i in range(N): # 0,1,...,N-1\n",
    "    for j in range(N): # 0,1,...,N-1\n",
    "        k_values[i,j] = (i/(N-1))*x_max # in [0,x_max]\n",
    "        L_values[i,j] = (j/(N-1))*x_max # in [0,x_max]\n",
    "        c_values[i,j] = consum(k_values[i,j],L_values[i,j],alpha=0.5,A=1)"
   ]
  },
  {
   "cell_type": "markdown",
   "metadata": {},
   "source": [
    "The function above fills three arrays with values for the capital, labor and consumption. The parameter $\\alpha$ is set to $0.5$ and technology, $A=1$. The production function is illustrated below in 3D. Later we are gonna simplify the task by setting $k=1$. If you are stranded on a deserted island, you do not have any capital to work with, so the production function will be normalized. "
   ]
  },
  {
   "cell_type": "code",
   "execution_count": 377,
   "metadata": {},
   "outputs": [
    {
     "data": {
      "application/vnd.jupyter.widget-view+json": {
       "model_id": "",
       "version_major": 2,
       "version_minor": 0
      },
      "text/plain": [
       "FigureCanvasNbAgg()"
      ]
     },
     "metadata": {},
     "output_type": "display_data"
    }
   ],
   "source": [
    "%matplotlib widget\n",
    "import matplotlib.pyplot as plt\n",
    "from mpl_toolkits.mplot3d import Axes3D\n",
    "from matplotlib import cm # for colormaps\n",
    "\n",
    "# Plotting the figure\n",
    "fig = plt.figure() # create the figure\n",
    "ax = fig.add_subplot(1,1,1,projection='3d') # create a 3d axis in the figure \n",
    "ax.plot_surface(k_values,l_values,c_values,cmap=cm.magma); # create surface plot in the axis\n",
    "\n",
    "# Adding labels\n",
    "ax.set_xlabel('$Capital$')\n",
    "ax.set_ylabel('$Labor$')\n",
    "ax.set_zlabel('$Consumption$')\n",
    "plt.title('Production function for goods of consumption')\n",
    "\n",
    "# Adjusting the axis\n",
    "ax.invert_xaxis()\n",
    "ax.xaxis.pane.fill = False\n",
    "ax.yaxis.pane.fill = False\n",
    "ax.zaxis.pane.fill = False"
   ]
  },
  {
   "cell_type": "code",
   "execution_count": 378,
   "metadata": {},
   "outputs": [],
   "source": [
    "# This has to run, so the next illustrations are not interactive.\n",
    "%matplotlib inline"
   ]
  },
  {
   "cell_type": "markdown",
   "metadata": {},
   "source": [
    "The graph gives a nice presentation of our production function in an interactive plot. The model for the rest of the notebook only looks at a \"slice\" of the 3D plot, to be exact, the slice is in the layer where $k=1$. "
   ]
  },
  {
   "cell_type": "markdown",
   "metadata": {},
   "source": [
    "# Presenting the new model\n",
    "\n",
    "The model consist of a total consumption level, given by the production function, a share of time used for leisure and a utility function, where leisure and consumption provide utility for the agent.\n",
    "\n",
    "\n",
    "\\\\[\n",
    "\\begin{eqnarray*}\n",
    "Production:\\; & c & = & A\\cdot L^{\\alpha}\\\\\n",
    "Utility:\\;    & U & = & ln(c) + ln(1-L)\\\\\n",
    "Leisure:\\;    & l & = & 1-L\n",
    "\\end{eqnarray*}\n",
    "\\\\]\n",
    "\n",
    "We write up the model in the following way:"
   ]
  },
  {
   "cell_type": "code",
   "execution_count": 379,
   "metadata": {},
   "outputs": [],
   "source": [
    "# Symbols for the new model is defined\n",
    "L     = sm.symbols('L') # Labor in production\n",
    "A     = sm.symbols('A') # Technology\n",
    "c     = sm.symbols('c') # Consumption\n",
    "lamb  = sm.symbols('lamb') # Lambda\n",
    "alpha = sm.symbols('alpha') # Alpha\n",
    "\n",
    "# The functions of the model\n",
    "f = A*L**alpha            # Production function for goods of consumption\n",
    "uf = sm.ln(c)+sm.ln(1-L)  # Utility function"
   ]
  },
  {
   "cell_type": "markdown",
   "metadata": {},
   "source": [
    "**The problem to be solved:** \n",
    "\n",
    "The optimization problem the agent on the deserted island now faces is how much time to allocate for leisure and how much for production of consumption goods. The effects of comparative advantage will be clear when we start to adjust on the size for $A$, but first we solve the model analytically. The agent has to maximize the utility w.r.t leisure and consumption, where the level of consumption can not exceed the produced amount:\n",
    "\n",
    "\\\\[\n",
    "\\begin{eqnarray*}\n",
    "& \\max_{L,c}U(L,c)\\\\\n",
    "& \\text{s.t.}\\\\\n",
    "& A\\cdot L^{\\alpha} = c\n",
    "\\end{eqnarray*}\n",
    "\\\\]\n",
    "\n",
    "To solve the problem, **the Lagrangian is constructed and solved** w.r.t. L, c and $\\lambda$\n",
    "\n",
    "$$ \\max_{L,c,\\lambda}\\mathcal{L}(L,c,\\lambda) = ln(c) + ln(1-L) + \\lambda(A\\cdot L^{\\alpha}-c) $$\n",
    "\n",
    "The **FOC's** for each variable is defined below:"
   ]
  },
  {
   "cell_type": "code",
   "execution_count": 380,
   "metadata": {},
   "outputs": [
    {
     "name": "stdout",
     "output_type": "stream",
     "text": [
      "FOC for Consumption: -lamb + 1/c = 0\n",
      "FOC for Labor:       A*L**alpha*alpha*lamb/L - 1/(-L + 1) = 0\n",
      "FOC for Lambda:      A*L**alpha - c = 0\n"
     ]
    }
   ],
   "source": [
    "# The Lagrangian\n",
    "Lag = uf + lamb*(f - c)\n",
    "\n",
    "# The FOC for each variable is found\n",
    "\n",
    "# FOC for Consumption\n",
    "dc    = Lag.diff(c)\n",
    "# FOC for Labor\n",
    "dL    = Lag.diff(L)\n",
    "# FOC for lambda\n",
    "dlamb = Lag.diff(lamb)\n",
    "\n",
    "# The FOC's are then printed\n",
    "print('FOC for Consumption: {} = 0'.format(dc))\n",
    "print('FOC for Labor:       {} = 0'.format(dL))\n",
    "print('FOC for Lambda:      {} = 0'.format(dlamb))"
   ]
  },
  {
   "cell_type": "markdown",
   "metadata": {},
   "source": [
    "**The equation system with three unknowns**\n",
    "\n",
    "The optimal choice of consumption and leisure, is found by **solving the equation system** of the three FOC's equations with three unknown variables. The equation system is given as\n",
    "\n",
    "\\\\[\n",
    "\\begin{eqnarray*}\n",
    "\\frac{\\partial\\mathcal{L}(L,c,\\lambda)}{\\partial L}      & = & \\frac{1}{c} - \\lambda & = & 0\\\\\n",
    "\\frac{\\partial\\mathcal{L}(L,c,\\lambda)}{\\partial c}      & = & A\\cdot L^{\\alpha}\\cdot\\alpha\\frac{\\lambda}{L} - \\frac{1}{1-L} & = & 0\\\\\n",
    "\\frac{\\partial\\mathcal{L}(L,c,\\lambda)}{\\partial\\lambda} & = & A\\cdot L^{\\alpha} - c & = & 0\n",
    "\\end{eqnarray*}\n",
    "\\\\]\n",
    "\n",
    "The system is alot easier to solve, so a single line of code is all we neew for this."
   ]
  },
  {
   "cell_type": "code",
   "execution_count": 381,
   "metadata": {},
   "outputs": [
    {
     "name": "stdout",
     "output_type": "stream",
     "text": [
      "c*      =  A*((alpha + 1)/alpha)**(-alpha)\n",
      "L*      =  (((alpha + 1)/alpha)**(-alpha))**(1/alpha)\n",
      "Lambda* =  (((alpha + 1)/alpha)**alpha/A)\n"
     ]
    }
   ],
   "source": [
    "# The equation system with three equations and three unknown is solved by\n",
    "Lag_sol = sm.solve([dc,dL,dlamb],c,L,lamb)\n",
    "\n",
    "# The solution to the equation system then becomes\n",
    "print('c*      =  A*((alpha + 1)/alpha)**(-alpha)')\n",
    "print('L*      =  (((alpha + 1)/alpha)**(-alpha))**(1/alpha)')\n",
    "print('Lambda* =  (((alpha + 1)/alpha)**alpha/A)')"
   ]
  },
  {
   "cell_type": "markdown",
   "metadata": {},
   "source": [
    "**Simplify the results:**\n",
    "\n",
    "The optimal allocation for leisure and consumption is simplified to the following expressions:\n",
    "\n",
    "\n",
    "\\\\[\n",
    "\\begin{eqnarray*}\n",
    "c^{*} & = & A\\left(\\frac{\\alpha}{1+\\alpha}\\right)^{\\alpha}\\\\\n",
    "L^{*} & = & \\frac{\\alpha}{1+\\alpha}\n",
    "\\end{eqnarray*}\n",
    "\\\\]\n",
    "\n",
    "It is clear to see that the amount of leisure only depends on a parameter, so it will be constant. This constant level stems from the substitution and income effect canceling out. If we become more productive, we do not have to work as much, because we are wealthier with the same amount of labor hours. On the other hand, when we become more productive, we like to work more to increase our utility even further. These effect offsets each other perfectly in this model.\n",
    "\n",
    "The **comparative advantage** is present in the optimal level of consumption. If technology increase (e.i. a new and more productive agent enters the economy, så the production increases through trade), it is possible to increase the level of consumption and thereby the level of utility in optimium. In the next part, the optimal allocation of leisure and consumption is calcualted for different levels of technology. "
   ]
  },
  {
   "cell_type": "code",
   "execution_count": 382,
   "metadata": {},
   "outputs": [
    {
     "data": {
      "image/png": "[encoded data removed]",
      "text/plain": [
       "<Figure size 432x288 with 1 Axes>"
      ]
     },
     "metadata": {
      "needs_background": "light"
     },
     "output_type": "display_data"
    }
   ],
   "source": [
    "# The grid for the plot is constructed\n",
    "fig, ax = plt.subplots(1,1)\n",
    "xax,yax = np.linspace(0.1,0.9), np.linspace(0.01,25)\n",
    "L, c = np.meshgrid(xax,yax)\n",
    "\n",
    "# Labels are added\n",
    "ax.set_xlabel('Share of hours as labor')\n",
    "ax.set_ylabel('Amount of consumption')\n",
    "\n",
    "# Parameter levels\n",
    "alpha = 0.5\n",
    "A1    = 7\n",
    "A2    = 19\n",
    "A25   = 32\n",
    "\n",
    "\n",
    "# Contour of the utility function\n",
    "U = np.log(c)+np.log(1-L)\n",
    "ax.contour(L, c, U, [1,2,2.5], colors=('b'));\n",
    "\n",
    "# Production functions are calculated for each level of A\n",
    "def prod1(x):\n",
    "        return A1*x**alpha\n",
    "def prod2(x):\n",
    "        return A2*x**alpha\n",
    "def prod25(x):\n",
    "        return A25*x**alpha\n",
    "\n",
    "# Consumption level for each production function\n",
    "prod_funk1 = prod1(xax)\n",
    "prod_funk2 = prod2(xax)\n",
    "prod_funk25 = prod25(xax)\n",
    "\n",
    "# The points of optimal leisure and consumption are calculated\n",
    "L_eff = (((alpha + 1)/alpha)**(-alpha))**(1/alpha)\n",
    "c1  = A1*((alpha + 1)/alpha)**(-alpha)\n",
    "c2  = A2*((alpha + 1)/alpha)**(-alpha)\n",
    "c25 = A25*((alpha + 1)/alpha)**(-alpha)\n",
    "\n",
    "# The plots and optimums are drawn\n",
    "ax.plot(xax,prod_funk1,\"--\"\"r\")   # A = 7\n",
    "ax.plot(xax,prod_funk2,\"--\"\"r\")   # A = 19\n",
    "ax.plot(xax,prod_funk25,\"--\"\"r\")  # A = 32\n",
    "ax.plot(L_eff,c1,\"p\"\"g\");\n",
    "ax.plot(L_eff,c2,\"p\"\"g\");\n",
    "ax.plot(L_eff,c25,\"p\"\"g\");"
   ]
  },
  {
   "cell_type": "markdown",
   "metadata": {},
   "source": [
    "**Conclusion:** The graph above shows three different economies with different levels of technology. With a higher level of technology, it is possilbe to obtain a higher level of consumption. This illustrates how the comparative advantage of more specialiced agents in the economy works. If agents produce the good they are best at producing, the level of utility increases through a higher production frontier (the red stippled lines). This is a more general way of showing how comparative advantages works. So if you ever get stranded on a deserted island, always remeber to bring friends.  "
   ]
  }
 ],
 "metadata": {
  "kernelspec": {
   "display_name": "Python 3",
   "language": "python",
   "name": "python3"
  },
  "language_info": {
   "codemirror_mode": {
    "name": "ipython",
    "version": 3
   },
   "file_extension": ".py",
   "mimetype": "text/x-python",
   "name": "python",
   "nbconvert_exporter": "python",
   "pygments_lexer": "ipython3",
   "version": "3.7.1"
  }
 },
 "nbformat": 4,
 "nbformat_minor": 2
}
